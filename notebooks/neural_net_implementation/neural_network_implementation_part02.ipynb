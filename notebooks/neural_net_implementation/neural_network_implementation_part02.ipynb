{
 "cells": [
  {
   "cell_type": "markdown",
   "metadata": {},
   "source": [
    "# How to implement a neural network: Part 2\n",
    "\n",
    "This is the second part of a 4 (+2) parts tutorial on how to implement a simple neural network model. You can find the links to the rest of the tutorial here:\n",
    "\n",
    "* [Part 1: Linear regression]({% post_url 2015-06-10-neural_network_implementation_part01 %})\n",
    "* [Intermezzo 1: Logistic classification function]({% post_url 2015-06-10-neural_network_implementation_intermezzo01 %})\n",
    "* [Part 2: Logistic regression (classification)]({% post_url 2015-06-10-neural_network_implementation_part02 %})\n",
    "* [Part 3: Hidden layer]({% post_url 2015-06-10-neural_network_implementation_part03 %})\n",
    "* [Intermezzo 2: Softmax classification function]({% post_url 2015-06-10-neural_network_implementation_intermezzo02 %})\n",
    "* [Part 4: Vectorization]({% post_url 2015-06-10-neural_network_implementation_part04 %})"
   ]
  },
  {
   "cell_type": "markdown",
   "metadata": {
    "collapsed": true
   },
   "source": [
    "## Part 2: Logistic regression (classification)\n",
    "\n",
    "While the previous tutorial described a very simple one-input-one-output linear regression model, this tutorial will describe a 2-class classification neural network with two input dimensions. This model is known in statistics as the [logistic regression](http://en.wikipedia.org/wiki/Logistic_regression) model. This network can be represented graphically as:\n",
    "\n",
    "![Image of the logistic model](https://dl.dropboxusercontent.com/u/8938051/Blog_images/SimpleANN02.png)\n",
    "\n",
    "The notebook starts out with importing the libraries we need:"
   ]
  },
  {
   "cell_type": "code",
   "execution_count": null,
   "metadata": {
    "collapsed": false
   },
   "outputs": [],
   "source": [
    "# Python imports\n",
    "import numpy as np # Matrix and vector computation package\n",
    "np.seterr(all='ignore') # ignore numpy warning like multiplication of inf\n",
    "import matplotlib.pyplot as plt  # Plotting library\n",
    "from matplotlib.colors import colorConverter, ListedColormap # some plotting functions\n",
    "from matplotlib import cm # Colormaps\n",
    "# Allow matplotlib to plot inside this notebook\n",
    "%matplotlib inline\n",
    "# Set the seed of the numpy random number generator so that the tutorial is reproducable\n",
    "np.random.seed(seed=1)"
   ]
  },
  {
   "cell_type": "markdown",
   "metadata": {},
   "source": [
    "## Define the class distributions\n",
    "\n",
    "In this example the target classes $t$ will be generated from 2 class distributions: blue ($t=1$) and red ($t=0$). Samples from both classes are sampled from their respective distributions. These samples are plotted in the figure below.\n",
    "Note that $X$ is a $N \\times 2$ matrix of individual input samples $\\mathbf{x}_i$, and that $\\mathbf{t}$ is a corresponding $N \\times 1$ vector of target values $t_i$."
   ]
  },
  {
   "cell_type": "code",
   "execution_count": null,
   "metadata": {
    "collapsed": false
   },
   "outputs": [],
   "source": [
    "# Define and generate the samples\n",
    "nb_of_samples_per_class = 20  # The number of sample in each class\n",
    "red_mean = [-1,0]  # The mean of the red class\n",
    "blue_mean = [1,0]  # The mean of the blue class\n",
    "std_dev = 1.2  # standard deviation of both classes\n",
    "# Generate samples from both classes\n",
    "x_red = np.random.randn(nb_of_samples_per_class, 2) * std_dev + red_mean\n",
    "x_blue = np.random.randn(nb_of_samples_per_class, 2) * std_dev + blue_mean\n",
    "\n",
    "# Merge samples in set of input variables x, and corresponding set of output variables t\n",
    "X = np.vstack((x_red, x_blue))\n",
    "t = np.vstack((np.zeros((nb_of_samples_per_class,1)), np.ones((nb_of_samples_per_class,1))))"
   ]
  },
  {
   "cell_type": "code",
   "execution_count": null,
   "metadata": {
    "collapsed": false
   },
   "outputs": [],
   "source": [
    "# Plot both classes on the x1, x2 plane\n",
    "plt.plot(x_red[:,0], x_red[:,1], 'ro', label='class red')\n",
    "plt.plot(x_blue[:,0], x_blue[:,1], 'bo', label='class blue')\n",
    "plt.grid()\n",
    "plt.legend(loc=2)\n",
    "plt.xlabel('$x_1$', fontsize=15)\n",
    "plt.ylabel('$x_2$', fontsize=15)\n",
    "plt.axis([-4, 4, -4, 4])\n",
    "plt.title('red vs. blue classes in the input space')\n",
    "plt.show()"
   ]
  },
  {
   "cell_type": "markdown",
   "metadata": {},
   "source": [
    "## Logistic function and cross-entropy cost function\n",
    "\n",
    "### Logistic function\n",
    "\n",
    "The goal is to predict the target class $t$ from the input values $x$. The network is defined as having an input $\\mathbf{x} = [x_1, x_2]$ which gets transformed by the weights $\\mathbf{w} = [w_1, w_2]$ to generate the probability that sample $\\mathbf{x}$ belongs to class $t=1$. This probability $P(t=1| \\mathbf{x},\\mathbf{w})$ is represented by the output $y$ of the network computed as $y = \\sigma(\\mathbf{x} * \\mathbf{w}^T)$. $\\sigma$ is the [logistic function](http://en.wikipedia.org/wiki/Logistic_function) and is defined as:\n",
    "$$ \\sigma(z) = \\frac{1}{1+e^{-z}} $$\n",
    "\n",
    "This logistic function and its derivative are explained in detail in [intermezzo 1]({% post_url 2015-06-10-neural_network_implementation_intermezzo01 %}) of this tutorial. The logistic function is implemented below by the `logistic(z)` method.\n",
    "\n",
    "### Cross-entropy cost function\n",
    "\n",
    "The cost function used to optimize the classification is the [cross-entropy error function](http://en.wikipedia.org/wiki/Cross_entropy). And is defined for sample $i$ as:\n",
    "\n",
    "$$ \\xi(t_i,y_i) = -t_i log(y_i) - (1-t_i)log(1-y_i) $$\n",
    "\n",
    "Which will give $\\xi(t,y) = - \\sum_{i=1}^{n} \\left[ t_i log(y_i) + (1-t_i)log(1-y_i) \\right]$ if we sum over all $N$ samples.\n",
    "\n",
    "The explanation and derivative of this cost function are given in detail in [intermezzo 1]({% post_url 2015-06-10-neural_network_implementation_intermezzo01 %}) of this tutorial. The cost function is implemented below by the `cost(y, t)` method, and its output with respect to the parameters $\\mathbf{w}$ over all samples $\\mathbf{x}$ is plotted in the figure below.\n",
    "\n",
    "The neural network output is implemented by the `nn(x, w)` method, and the neural network prediction by the `nn_predict(x,w)` method."
   ]
  },
  {
   "cell_type": "code",
   "execution_count": null,
   "metadata": {
    "collapsed": true
   },
   "outputs": [],
   "source": [
    "# Define the logistic function\n",
    "def logistic(z): return 1 / (1 + np.exp(-z))\n",
    "\n",
    "# Define the neural network function y = 1 / (1 + numpy.exp(-x*w))\n",
    "def nn(x, w): return logistic(x.dot(w.T))\n",
    "\n",
    "# Define the neural network prediction function that only returns\n",
    "#  1 or 0 depending on the predicted class\n",
    "def nn_predict(x,w): return np.around(nn(x,w))\n",
    "    \n",
    "# Define the cost function\n",
    "def cost(y, t):\n",
    "    return - np.sum(np.multiply(t, np.log(y)) + np.multiply((1-t), np.log(1-y)))"
   ]
  },
  {
   "cell_type": "code",
   "execution_count": null,
   "metadata": {
    "collapsed": false
   },
   "outputs": [],
   "source": [
    "# Plot the cost in function of the weights\n",
    "# Define a vector of weights for which we want to plot the cost\n",
    "nb_of_ws = 100 # compute the cost nb_of_ws times in each dimension\n",
    "ws1 = np.linspace(-5, 5, num=nb_of_ws) # weight 1\n",
    "ws2 = np.linspace(-5, 5, num=nb_of_ws) # weight 2\n",
    "ws_x, ws_y = np.meshgrid(ws1, ws2) # generate grid\n",
    "cost_ws = np.zeros((nb_of_ws, nb_of_ws)) # initialize cost matrix\n",
    "# Fill the cost matrix for each combination of weights\n",
    "for i in range(nb_of_ws):\n",
    "    for j in range(nb_of_ws):\n",
    "        cost_ws[i,j] = cost(nn(X, np.asmatrix([ws_x[i,j], ws_y[i,j]])) , t)\n",
    "# Plot the cost function surface\n",
    "plt.contourf(ws_x, ws_y, cost_ws, 20, cmap=cm.pink)\n",
    "cbar = plt.colorbar()\n",
    "cbar.ax.set_ylabel('$\\\\xi$', fontsize=15)\n",
    "plt.xlabel('$w_1$', fontsize=15)\n",
    "plt.ylabel('$w_2$', fontsize=15)\n",
    "plt.title('Cost function surface')\n",
    "plt.grid()\n",
    "plt.show()"
   ]
  },
  {
   "cell_type": "markdown",
   "metadata": {},
   "source": [
    "## Gradient descent optimization of the cost function\n",
    "\n",
    "The [gradient descent](http://en.wikipedia.org/wiki/Gradient_descent) algorithm works by taking the [derivative](http://en.wikipedia.org/wiki/Derivative) of the cost function $\\xi$ with respect to the parameters, and updates the parameters in the direction of the negative [gradient](http://en.wikipedia.org/wiki/Gradient).\n",
    "\n",
    "The parameters $\\mathbf{w}$ are updated by taking steps proportional to the negative of the gradient: $\\mathbf{w}(k+1) = \\mathbf{w}(k) - \\Delta \\mathbf{w}(k+1)$. $\\Delta \\mathbf{w}$ is defined as: $\\Delta \\mathbf{w} = \\mu \\frac{\\partial \\xi}{\\partial \\mathbf{w}}$ with $\\mu$ the learning rate.\n",
    "\n",
    "${\\partial \\xi_i}/{\\partial \\mathbf{w}}$, for each sample $i$ is computed as follows:\n",
    "\n",
    "$$\\frac{\\partial \\xi_i}{\\partial \\mathbf{w}} = \\frac{\\partial z_i}{\\partial \\mathbf{w}} \\frac{\\partial y_i}{\\partial z_i} \\frac{\\partial \\xi_i}{\\partial y_i}$$\n",
    "\n",
    "Where $y_i = \\sigma(z_i)$ is the output of the logistic neuron, and $z_i = \\mathbf{x}_i * \\mathbf{w}^T$ the input to the logistic neuron. \n",
    "\n",
    "* [Intermezzo 1]({% post_url 2015-06-10-neural_network_implementation_intermezzo01 %}) derived that ${\\partial \\xi_i}/{\\partial y_i}$ can be calculated as:\n",
    "\n",
    "$$\\frac{\\partial \\xi_i}{\\partial y_i} = \\frac{y_i - t_i}{y_i (1 - y_i)}$$\n",
    "\n",
    "\n",
    "* [Intermezzo 1]({% post_url 2015-06-10-neural_network_implementation_intermezzo01 %}) derived that ${\\partial y_i}/{\\partial z_i}$ can be calculated as:\n",
    "\n",
    "$$\\frac{\\partial y_i}{\\partial z_i} = y_i (1 - y_i)$$\n",
    "\n",
    "* ${\\partial z_i}/{\\partial \\mathbf{w}}$ can be calculated as:\n",
    "\n",
    "$$\\frac{\\partial z}{\\partial \\mathbf{w}} = \\frac{\\partial (\\mathbf{x} * \\mathbf{w})}{\\partial \\mathbf{w}} = \\mathbf{x} $$\n",
    "\n",
    "Bringing this together we can write:\n",
    "\n",
    "$$\\frac{\\partial \\xi_i}{\\partial \\mathbf{w}} = \\frac{\\partial z_i}{\\partial \\mathbf{w}} \\frac{\\partial y_i}{\\partial z_i} \\frac{\\partial \\xi_i}{\\partial y_i} = \\mathbf{x} * y_i (1 - y_i) * \\frac{y_i - t_i}{y_i (1-y_i)} = \\mathbf{x} * (y_i-t_i) $$\n",
    "\n",
    "Notice how this gradient is the same (negating the constant factor) as the gradient of the squared error regression.\n",
    "\n",
    "So the full update function $\\Delta w_j$ for each weight will become\n",
    "\n",
    "$$\\Delta w_j = \\mu * \\frac{\\partial \\xi_i}{\\partial w_j} = \\mu * x_j * (y_i-t_i)$$\n",
    "\n",
    "In the batch processing, we just add up all the gradients for each sample:\n",
    "\n",
    "$$\\Delta w_j = \\mu * \\sum_{i=1}^{N} x_{ij} (y_i - t_i)$$\n",
    "\n",
    "To start out the gradient descent algorithm, you typically start with picking the initial parameters at random and start updating these parameters according to the delta rule with $\\Delta w$ until convergence.\n",
    "\n",
    "The gradient ${\\partial \\xi}/{\\partial \\mathbf{w}}$ is implemented by the `gradient(w, x, t)` function. $\\Delta \\mathbf{w}$ is computed by the `delta_w(w_k, x, t, learning_rate)`. "
   ]
  },
  {
   "cell_type": "code",
   "execution_count": null,
   "metadata": {
    "collapsed": false
   },
   "outputs": [],
   "source": [
    "# define the gradient function.\n",
    "def gradient(w, x, t): return (nn(x, w) - t).T * x\n",
    "\n",
    "# define the update function delta w which returns the \n",
    "#  delta w for each weight in a vector\n",
    "def delta_w(w_k, x, t, learning_rate):\n",
    "    return learning_rate * gradient(w_k, x, t)"
   ]
  },
  {
   "cell_type": "markdown",
   "metadata": {},
   "source": [
    "### Gradient descent updates\n",
    "\n",
    "An example run of gradient descent on the example inputs $X$ and targets $\\mathbf{t}$ for 3 iterations is shown in the figure below. The black dots represent the weight parameter values $\\mathbf{w}(k)$ at iteration $k$."
   ]
  },
  {
   "cell_type": "code",
   "execution_count": null,
   "metadata": {
    "collapsed": false
   },
   "outputs": [],
   "source": [
    "# Set the initial weight parameter\n",
    "w = np.asmatrix([-4, -2])\n",
    "# Set the learning rate\n",
    "learning_rate = 0.05\n",
    "\n",
    "# Plot the error surface\n",
    "plt.contourf(ws_x, ws_y, cost_ws, 20, alpha=0.6, cmap=cm.pink)\n",
    "cbar = plt.colorbar()\n",
    "cbar.ax.set_ylabel('cost')\n",
    "\n",
    "# Start the gradient descent updates and plot the iterations\n",
    "nb_of_iterations = 3  # number of gradient descent updates\n",
    "for i in range(nb_of_iterations):\n",
    "    dw = delta_w(w, X, t, learning_rate)  # get the delta w update\n",
    "    # Plot the weight-cost value and the line that represents the update\n",
    "    plt.plot(w[0,0], w[0,1], 'ko')  # Plot the weight cost value\n",
    "    w_new = w-dw # update the weights\n",
    "    plt.plot([w[0,0], w_new[0,0]], [w[0,1], w_new[0,1]], 'k-')\n",
    "    plt.text(w[0,0]-0.2, w[0,1]+0.4, '$w({})$'.format(i), color='k')\n",
    "    w = w_new  # set the weight to the updated weights\n",
    "    \n",
    "# Plot the last weight, axis, and show figure\n",
    "plt.plot(w[0,0], w[0,1], 'ko')\n",
    "plt.text(w[0,0]-0.2, w[0,1]+0.4, '$w({})$'.format(nb_of_iterations), color='k')  \n",
    "plt.xlabel('$w_1$', fontsize=15)\n",
    "plt.ylabel('$w_2$', fontsize=15)\n",
    "plt.title('Gradient descent updates on cost surface')\n",
    "plt.grid()\n",
    "plt.show()"
   ]
  },
  {
   "cell_type": "markdown",
   "metadata": {},
   "source": [
    "## Visualization of the trained classifier\n",
    "\n",
    "The resulting decision boundary of running gradient descent on the example inputs $X$ and targets $\\mathbf{t}$ is shown in the figure below. The background color refers to the classification decision of the trained classifier. Note that since this decision plane is linear that not all examples can be classified correctly. Two blue dots will be misclassified as red, and four red spots will be misclassified as blue.\n",
    "\n",
    "Note that the decision boundary goes through the point $(0,0)$ since we don't have a bias parameter on the logistic output unit."
   ]
  },
  {
   "cell_type": "code",
   "execution_count": null,
   "metadata": {
    "collapsed": false
   },
   "outputs": [],
   "source": [
    "# Set the initial weight parameter\n",
    "w = np.asmatrix([-4, -2])\n",
    "# Set the learning rate\n",
    "learning_rate = 0.05\n",
    "\n",
    "# Start performing the gradient descent updates, and print the weights and cost:\n",
    "nb_of_iterations = 10  # number of gradient descent updates\n",
    "for i in range(nb_of_iterations):\n",
    "    dw = delta_w(w, X, t, learning_rate)  # get the delta w update\n",
    "    w = w - dw  # update the current weight parameter\n",
    "\n",
    "# Plot the resulting decision boundary\n",
    "# Generate a grid over the input space to plot the color of the\n",
    "#  classification at that grid point\n",
    "nb_of_xs = 200\n",
    "xs1 = np.linspace(-4, 4, num=nb_of_xs)\n",
    "xs2 = np.linspace(-4, 4, num=nb_of_xs)\n",
    "xx, yy = np.meshgrid(xs1, xs2) # create the grid\n",
    "# Initialize and fill the classification plane\n",
    "classification_plane = np.zeros((nb_of_xs, nb_of_xs))\n",
    "for i in range(nb_of_xs):\n",
    "    for j in range(nb_of_xs):\n",
    "        classification_plane[i,j] = nn_predict(np.asmatrix([xx[i,j], yy[i,j]]) , w)\n",
    "# Create a color map to show the classification colors of each grid point\n",
    "cmap = ListedColormap([\n",
    "        colorConverter.to_rgba('r', alpha=0.30),\n",
    "        colorConverter.to_rgba('b', alpha=0.30)])\n",
    "\n",
    "# Plot the classification plane with decision boundary and input samples\n",
    "plt.contourf(xx, yy, classification_plane, cmap=cmap)\n",
    "plt.plot(x_red[:,0], x_red[:,1], 'ro', label='target red')\n",
    "plt.plot(x_blue[:,0], x_blue[:,1], 'bo', label='target blue')\n",
    "plt.grid()\n",
    "plt.legend(loc=2)\n",
    "plt.xlabel('$x_1$', fontsize=15)\n",
    "plt.ylabel('$x_2$', fontsize=15)\n",
    "plt.title('red vs. blue classification boundary')\n",
    "plt.show()"
   ]
  },
  {
   "cell_type": "markdown",
   "metadata": {},
   "source": [
    "This post is generated from an IPython notebook file. [Link to the full IPython notebook file](https://github.com/peterroelants/peterroelants.github.io/blob/master/notebooks/neural_net_implementation/neural_network_implementation_part02.ipynb)"
   ]
  }
 ],
 "metadata": {
  "kernelspec": {
   "display_name": "Python 3",
   "language": "python",
   "name": "python3"
  },
  "language_info": {
   "codemirror_mode": {
    "name": "ipython",
    "version": 3
   },
   "file_extension": ".py",
   "mimetype": "text/x-python",
   "name": "python",
   "nbconvert_exporter": "python",
   "pygments_lexer": "ipython3",
   "version": "3.4.3"
  }
 },
 "nbformat": 4,
 "nbformat_minor": 0
}
