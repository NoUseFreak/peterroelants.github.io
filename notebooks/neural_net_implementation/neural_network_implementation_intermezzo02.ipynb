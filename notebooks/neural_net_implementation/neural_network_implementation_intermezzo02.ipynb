{
 "cells": [
  {
   "cell_type": "markdown",
   "metadata": {},
   "source": [
    "# How to implement a neural network: Intermezzo 2\n",
    "\n",
    "This is the second intermezzo of a 4 (+2) parts tutorial on how to implement a simple neural network model. You can find the links to the rest of the tutorial here:\n",
    "\n",
    "* [Part 1: Linear regression]({% post_url 2015-06-10-neural_network_implementation_part01 %})\n",
    "* [Intermezzo 1: Logistic classification function]({% post_url 2015-06-10-neural_network_implementation_intermezzo01 %})\n",
    "* [Part 2: Logistic regression (classification)]({% post_url 2015-06-10-neural_network_implementation_part02 %})\n",
    "* [Part 3: Hidden layer]({% post_url 2015-06-10-neural_network_implementation_part03 %})\n",
    "* [Intermezzo 2: Softmax classification function]({% post_url 2015-06-10-neural_network_implementation_intermezzo02 %})\n",
    "* [Part 4: Vectorization]({% post_url 2015-06-10-neural_network_implementation_part04 %})"
   ]
  },
  {
   "cell_type": "markdown",
   "metadata": {},
   "source": [
    "## Softmax classification function\n",
    "\n",
    "The previous intermezzo described how to do a classification of 2 classes with the help of the [logistic function](http://en.wikipedia.org/wiki/Logistic_function).\n",
    "For multiclass classification there exists an extension of this logistic function called the [softmax function](http://en.wikipedia.org/wiki/Softmax_function) which is used in [multinomial logistic regression](http://en.wikipedia.org/wiki/Multinomial_logistic_regression). The following section will explain the softmax function and how to derive it."
   ]
  },
  {
   "cell_type": "code",
   "execution_count": null,
   "metadata": {
    "collapsed": true
   },
   "outputs": [],
   "source": [
    "# Python imports\n",
    "import numpy as np # Matrix and vector computation package\n",
    "import matplotlib.pyplot as plt  # Plotting library\n",
    "from matplotlib.colors import colorConverter, ListedColormap # some plotting functions\n",
    "from mpl_toolkits.mplot3d import Axes3D  # 3D plots\n",
    "from matplotlib import cm # Colormaps\n",
    "# Allow matplotlib to plot inside this notebook\n",
    "%matplotlib inline"
   ]
  },
  {
   "cell_type": "markdown",
   "metadata": {},
   "source": [
    "## Softmax function\n",
    "\n",
    "The [logistic output function](http://en.wikipedia.org/wiki/Logistic_function) described in the previous intermezzo can only be used for the classification between two target classes $t=1$ and $t=0$. This logistic function can be generalized to output a multiclass categorical probability distribution by the [softmax function](http://en.wikipedia.org/wiki/Softmax_function). This softmax function $\\varsigma$ takes as input a $C$-dimensional vector $\\mathbf{z}$ and outputs a $C$-dimensional vector $\\mathbf{y}$ of real values between $0$ and $1$. This function is a normalized exponential and is defined as:\n",
    "\n",
    "$$ y_c = \\varsigma(\\mathbf{z})_c = \\frac{e^{z_c}}{\\sum_{d=1}^C e^{z_d}} \\quad \\text{for} \\; c = 1 \\cdots C$$\n",
    "\n",
    "The denominator $\\sum_{d=1}^C e^{z_d}$ acts as a regularizer to make sure that $\\sum_{c=1}^C y_c = 1$. \n",
    "As the output layer of a neural network, the softmax function can be represented graphically as a layer with $C$ neurons.\n",
    "\n",
    "We can write the probabilities that the class is $t=c$ for $c = 1 \\ldots C$ given input $\\mathbf{z}$ as:\n",
    "\n",
    "$$ \n",
    "\\begin{bmatrix} \n",
    "P(t=1 | \\mathbf{z}) \\\\\n",
    "\\vdots \\\\\n",
    "P(t=C | \\mathbf{z}) \\\\\n",
    "\\end{bmatrix}\n",
    "= \n",
    "\\begin{bmatrix} \n",
    "\\varsigma(\\mathbf{z})_1 \\\\\n",
    "\\vdots \\\\\n",
    "\\varsigma(\\mathbf{z})_C \\\\\n",
    "\\end{bmatrix}\n",
    "= \\frac{1}{\\sum_{d=1}^C e^{z_d}}\n",
    "\\begin{bmatrix} \n",
    "e^{z_1} \\\\\n",
    "\\vdots \\\\\n",
    "e^{z_C} \\\\\n",
    "\\end{bmatrix}\n",
    "$$\n",
    "\n",
    "Where $P(t=c | \\mathbf{z})$ is thus the probability that that the class is $c$ given the input $\\mathbf{z}$.\n",
    "\n",
    "These probabilities of the output $P(t=1|\\mathbf{z})$ for an example system with 2 classes ($t=1$, $t=2$) and input $\\mathbf{z} = [z_1, z_2]$ is shown in the figure below. The other probability $P(t=2|\\mathbf{z})$ will be complementary."
   ]
  },
  {
   "cell_type": "code",
   "execution_count": null,
   "metadata": {
    "collapsed": false
   },
   "outputs": [],
   "source": [
    "# Define the softmax function\n",
    "def softmax(z): return np.exp(z) / np.sum(np.exp(z))\n",
    "\n",
    "# Plot the softmax output for 2 dimensions for both classes\n",
    "# Plot the output in function of the weights\n",
    "# Define a vector of weights for which we want to plot the ooutput\n",
    "nb_of_zs = 200\n",
    "zs = np.linspace(-10, 10, num=nb_of_zs) # input \n",
    "zs_1, zs_2 = np.meshgrid(zs, zs) # generate grid\n",
    "y = np.zeros((nb_of_zs, nb_of_zs, 2)) # initialize output\n",
    "# Fill the output matrix for each combination of input z's\n",
    "for i in range(nb_of_zs):\n",
    "    for j in range(nb_of_zs):\n",
    "        y[i,j,:] = softmax(np.asarray([zs_1[i,j], zs_2[i,j]]))\n",
    "# Plot the cost function surfaces for both classes\n",
    "fig = plt.figure()\n",
    "# Plot the cost function surface for t=1\n",
    "ax = fig.gca(projection='3d')\n",
    "surf = ax.plot_surface(zs_1, zs_2, y[:,:,0], linewidth=0, cmap=cm.coolwarm)\n",
    "ax.view_init(elev=30, azim=70)\n",
    "cbar = fig.colorbar(surf)\n",
    "ax.set_xlabel('$z_1$', fontsize=15)\n",
    "ax.set_ylabel('$z_2$', fontsize=15)\n",
    "ax.set_zlabel('$y_1$', fontsize=15)\n",
    "ax.set_title ('$P(t=1|\\mathbf{z})$')\n",
    "cbar.ax.set_ylabel('$P(t=1|\\mathbf{z})$', fontsize=15)\n",
    "plt.grid()\n",
    "plt.show()"
   ]
  },
  {
   "cell_type": "markdown",
   "metadata": {},
   "source": [
    "### Derivative of the softmax function\n",
    "\n",
    "To use the softmax function in neural networks, we need to compute its derivative. This derivative ${\\partial y_i}/{\\partial z_j}$ of the output $\\mathbf{y}$ of the softmax function with respect to its input $\\mathbf{z}$ can be calculated as:\n",
    "\n",
    "$$\n",
    "\\begin{split}\n",
    "\\text{if} \\; i = j :& \\frac{\\partial y_i}{\\partial z_i} = \\frac{\\partial \\frac{e^{z_i}}{e^{z_i}}}{\\partial z_i} = \\frac{e^{2z_i}-e^{2z_i}}{e^{2z_i}} = \\frac{e^{z_i}}{e^{z_i}} \\frac{e^{z_i}-e^{z_i}}{e^{z_i}} = \\frac{e^{z_i}}{e^{z_i}} (1 - \\frac{e^{z_i}}{e^{z_i}}) = y_i (1 - y_i) \\\\\n",
    "\\text{if} \\; i \\neq j :& \\frac{\\partial y_i}{\\partial z_j} = \\frac{\\partial \\frac{e^{z_i}}{e^{z_j}}}{\\partial z_j} = \\frac{0 - e^{z_i}e^{z_j}}{e^{2z_j}} = -\\frac{e^{z_i}}{e^{z_j}} \\frac{e^{z_j}}{e^{z_j}} = -y_i y_j\n",
    "\\end{split}$$\n",
    "\n",
    "Note that if $i = j$ this derivative is similar to the derivative of the logistic function.\n"
   ]
  },
  {
   "cell_type": "markdown",
   "metadata": {},
   "source": [
    "### Cross-entropy cost function for the softmax function\n",
    "\n",
    "To derive the cost function for the softmax function we start out from the [likelihood function](http://en.wikipedia.org/wiki/Likelihood_function) that a given set of parameters $\\theta$ of the model can result in prediction of the correct class of each input sample, as in the derivation for the logistic cost function. The maximization of this likelihood can be written as:\n",
    "\n",
    "$$\\underset{\\theta}{\\text{argmax}}\\; \\mathcal{L}(\\theta|\\mathbf{t},\\mathbf{z})$$\n",
    "\n",
    "The likelihood $\\mathcal{L}(\\theta|\\mathbf{t},\\mathbf{z})$ can be rewritten as the [joint probability](http://en.wikipedia.org/wiki/Joint_probability_distribution) of generating $\\mathbf{t}$ and $\\mathbf{z}$ given the parameters $\\theta$: $P(\\mathbf{t},\\mathbf{z}|\\theta)$. Which can be written as a conditional distribution:\n",
    "\n",
    "$$P(\\mathbf{t},\\mathbf{z}|\\theta) = P(\\mathbf{t}|\\mathbf{z},\\theta)P(\\mathbf{z}|\\theta)$$\n",
    "\n",
    "Since we are not interested in the probability of $\\mathbf{z}$ we can reduce this to: $\\mathcal{L}(\\theta|\\mathbf{t},\\mathbf{z}) = P(\\mathbf{t}|\\mathbf{z},\\theta)$. Which can be written as $P(\\mathbf{t}|\\mathbf{z})$ for fixed $\\theta$.\n",
    "Since each $t_i$ is dependent on the full $\\mathbf{z}$, and only 1 class can be activated in the $\\mathbf{t}$ we can write\n",
    "\n",
    "$$P(\\mathbf{t}|\\mathbf{z}) = \\prod_{i=c}^{C} P(t_c|\\mathbf{z})^{t_c} = \\prod_{i=c}^{C} \\varsigma(\\mathbf{z})_c^{t_c} = \\prod_{i=c}^{C} y_c^{t_c}$$\n",
    "\n",
    "\n",
    "As was noted during the derivation of the cost function of the logistic function, maximizing this likelihood can also be done by minimizing the negative log-likelihood:\n",
    "\n",
    "$$- log \\mathcal{L}(\\theta|\\mathbf{t},\\mathbf{z}) = \\xi(\\mathbf{t},\\mathbf{z}) = - log \\prod_{i=c}^{C} y_c^{t_c} = - \\sum_{i=c}^{C} t_c \\cdot log(y_c)$$\n",
    "\n",
    "Which is the cross-entropy error function $\\xi$.\n",
    "Note that for a 2 class system output $t_2 = 1 - t_1$ and this results in the same error function as for logistic regression: $\\xi(\\mathbf{t},\\mathbf{y}) =- t_c log(y_c) - (1-t_c) log(1-y_c) $.\n",
    "\n",
    "The cross-entropy error function over a batch of multiple samples of size $n$ can be calculated as:\n",
    "\n",
    "$$\\xi(T,Y) = \\sum_{i=1}^n \\xi(\\mathbf{t}_i,\\mathbf{y}_i) = - \\sum_{i=1}^n \\sum_{i=c}^{C} t_{ic} \\cdot log( y_{ic}) $$\n",
    "\n",
    "Where $t_{ic}$ is 1 if and only if sample $i$ belongs to class $c$, and $y_{ic}$ is the output probability that sample $i$ belongs to class $c$."
   ]
  },
  {
   "cell_type": "markdown",
   "metadata": {},
   "source": [
    "#### Derivative of the cross-entropy cost function for the softmax function\n",
    "\n",
    "The derivative ${\\partial \\xi}/{\\partial z_i}$ of the cost function with respect to the softmax input $z_i$ can be calculated as:\n",
    "\n",
    "$$\\begin{split}\n",
    "\\frac{\\partial \\xi}{\\partial z_i} & = - \\sum_{j=1}^C \\frac{\\partial t_j log(y_j)}{\\partial z_i}{} =\n",
    "- \\sum_{j=1}^C t_j \\frac{\\partial log(y_j)}{\\partial z_i} = - \\sum_{j=1}^C t_j \\frac{1}{y_j} \\frac{\\partial y_j}{\\partial z_i} \\\\\n",
    "& = - \\frac{t_i}{y_i} \\frac{\\partial y_i}{\\partial z_i} - \\sum_{j \\neq i}^C \\frac{t_j}{y_j} \\frac{\\partial y_j}{\\partial z_i}\n",
    "= - \\frac{t_i}{y_i} y_i (1-y_i) - \\sum_{j \\neq i}^C \\frac{t_j}{y_j} (-y_j y_i) \\\\\n",
    "& = - t_i + t_i y_i + \\sum_{j \\neq i}^C t_j y_i = - t_i + \\sum_{j = 1}^C t_j y_i\n",
    "= -t_i + y_i \\sum_{j = 1}^C t_j \\\\\n",
    "& = y_i - t_i\n",
    "\\end{split}$$\n",
    "\n",
    "Note that we already derived ${\\partial y_j}/{\\partial z_i}$ for $i=j$ and $i \\neq j$ above.\n",
    "\n",
    "The result that ${\\partial \\xi}/{\\partial z_i} = y_i - t_i$ for all $i \\in C$ is the same as the derivative of the cross-entropy for the logistic function which had only one output node."
   ]
  },
  {
   "cell_type": "markdown",
   "metadata": {},
   "source": [
    "This post is generated from an IPython notebook file. [Link to the full IPython notebook file](https://github.com/peterroelants/peterroelants.github.io/blob/master/notebooks/neural_net_implementation/neural_network_implementation_intermezzo02.ipynb)"
   ]
  }
 ],
 "metadata": {
  "kernelspec": {
   "display_name": "Python 2",
   "language": "python",
   "name": "python2"
  },
  "language_info": {
   "codemirror_mode": {
    "name": "ipython",
    "version": 2
   },
   "file_extension": ".py",
   "mimetype": "text/x-python",
   "name": "python",
   "nbconvert_exporter": "python",
   "pygments_lexer": "ipython2",
   "version": "2.7.9"
  }
 },
 "nbformat": 4,
 "nbformat_minor": 0
}
